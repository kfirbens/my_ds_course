{
 "cells": [
  {
   "cell_type": "markdown",
   "metadata": {},
   "source": [
    "### Exercise 1"
   ]
  },
  {
   "cell_type": "code",
   "execution_count": 10,
   "metadata": {},
   "outputs": [
    {
     "name": "stdout",
     "output_type": "stream",
     "text": [
      "My height is 1.72 in meters,my weight is 64 Kgs and my BMI is 21.63331530557058\n",
      "\n",
      "My height is 1.72 in meters\n",
      " my weight is 64 Kgs\n",
      " and my BMI is 21.63331530557058\n",
      "\n"
     ]
    }
   ],
   "source": [
    "hight_in_meters=1.72\n",
    "wight_in_kg=64\n",
    "bmi=wight_in_kg/(hight_in_meters**2)\n",
    "print (\"My height is %s in meters,my weight is %s Kgs and my BMI is %s\\n\" %(hight_in_meters,wight_in_kg,bmi)) # ONE LINE PRINT\n",
    "print(\"My height is %s in meters\\n\" %hight_in_meters, \"my weight is %s Kgs\\n\" % wight_in_kg, \"and my BMI is %s\\n\"  %bmi) ##EACH LINE SEPEARATE\n"
   ]
  },
  {
   "cell_type": "markdown",
   "metadata": {},
   "source": [
    "### Exercise 2"
   ]
  },
  {
   "cell_type": "code",
   "execution_count": 17,
   "metadata": {},
   "outputs": [
    {
     "name": "stdout",
     "output_type": "stream",
     "text": [
      "THERE IS 13 LETTERS \n",
      "MY FULL NAME IS kfir ben-simon \n",
      "MY FULL NAME IS kfIr bEn-sImOn \n"
     ]
    }
   ],
   "source": [
    "first_name='kfir'\n",
    "last_name='ben-simon'\n",
    "print (\"THERE IS %s LETTERS \" %len(first_name + last_name)) \n",
    "print (\"MY FULL NAME IS %s \" %(first_name+\" \"+last_name))\n",
    "print (\"MY FULL NAME IS %s \" %(first_name+\" \"+last_name).replace(\"a\",\"A\").replace(\"e\",\"E\").replace(\"i\",\"I\").replace(\"o\",\"O\").replace(\"u\",\"U\"))\n",
    "\n"
   ]
  },
  {
   "cell_type": "code",
   "execution_count": null,
   "metadata": {
    "collapsed": true
   },
   "outputs": [],
   "source": []
  },
  {
   "cell_type": "markdown",
   "metadata": {},
   "source": [
    "### Exercise 3"
   ]
  },
  {
   "cell_type": "code",
   "execution_count": 17,
   "metadata": {},
   "outputs": [
    {
     "name": "stdout",
     "output_type": "stream",
     "text": [
      "IS SAME CITY ?  False \n",
      "IS OLDER ? True \n",
      "DIFFRENT GENDER ? True \n",
      "BOTH_MARRIED ? False\n"
     ]
    }
   ],
   "source": [
    "KFIR_DITAILES=[\"Male\",29,\"Ramat-Gan\",\"Singel\"]\n",
    "FRIEND_DITAILES=[\"Male\",31,\"Tel-Aviv\",\"Married\"]\n",
    "same_gender=KFIR_DITAILES[0]==FRIEND_DITAILES[0]\n",
    "same_age=KFIR_DITAILES[1]<FRIEND_DITAILES[1]\n",
    "same_city=KFIR_DITAILES[2]==FRIEND_DITAILES[2]\n",
    "both_married=KFIR_DITAILES[3]==\"Married\" and FRIEND_DITAILES[3]==\"Married\"\n",
    "print(\"IS SAME CITY ? \",same_city, \"\\nIS OLDER ?\",same_age, \"\\nDIFFRENT GENDER ?\",same_gender,\"\\nBOTH_MARRIED ?\",both_married)\n",
    "\n"
   ]
  }
 ],
 "metadata": {
  "kernelspec": {
   "display_name": "Python 3",
   "language": "python",
   "name": "python3"
  },
  "language_info": {
   "codemirror_mode": {
    "name": "ipython",
    "version": 3
   },
   "file_extension": ".py",
   "mimetype": "text/x-python",
   "name": "python",
   "nbconvert_exporter": "python",
   "pygments_lexer": "ipython3",
   "version": "3.6.3"
  }
 },
 "nbformat": 4,
 "nbformat_minor": 2
}
